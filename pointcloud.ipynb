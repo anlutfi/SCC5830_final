{
 "cells": [
  {
   "cell_type": "markdown",
   "metadata": {},
   "source": [
    "## Generating point cloud\n",
    "\n",
    "DO NOT RUN if results are already present, as it takes 40 minutes"
   ]
  },
  {
   "cell_type": "code",
   "execution_count": null,
   "metadata": {},
   "outputs": [],
   "source": [
    "from pyodm import Node\n",
    "from os import listdir, path"
   ]
  },
  {
   "cell_type": "code",
   "execution_count": null,
   "metadata": {},
   "outputs": [],
   "source": [
    "n = Node('localhost', 3000)"
   ]
  },
  {
   "cell_type": "code",
   "execution_count": null,
   "metadata": {},
   "outputs": [],
   "source": [
    "prefix = '../images/original'\n",
    "files = [path.sep.join([prefix, f]) for f in listdir(prefix)]"
   ]
  },
  {
   "cell_type": "code",
   "execution_count": null,
   "metadata": {},
   "outputs": [],
   "source": [
    "task = n.create_task(files, {'dsm': True})\n",
    "task.wait_for_completion()"
   ]
  },
  {
   "cell_type": "code",
   "execution_count": null,
   "metadata": {},
   "outputs": [],
   "source": [
    "task.download_assets(\"/media/antonio/Ubuntail/Dropbox/education/phd/courses/processamento_imagens/assignments/final/pyodm\")"
   ]
  },
  {
   "cell_type": "markdown",
   "metadata": {},
   "source": [
    "## Visualizing point cloud"
   ]
  },
  {
   "cell_type": "code",
   "execution_count": null,
   "metadata": {},
   "outputs": [],
   "source": [
    "import laspy\n",
    "import open3d as o3d\n",
    "import numpy as np\n",
    "from os import listdir, path"
   ]
  },
  {
   "cell_type": "code",
   "execution_count": null,
   "metadata": {},
   "outputs": [],
   "source": [
    "pc_data_dir = '/media/antonio/Ubuntail/Dropbox/education/phd/courses/processamento_imagens/assignments/final/pyodm/entwine_pointcloud/ept-data'"
   ]
  },
  {
   "cell_type": "code",
   "execution_count": null,
   "metadata": {},
   "outputs": [],
   "source": [
    "points = None\n",
    "for fname in listdir(pc_data_dir):\n",
    "    pc = laspy.read(path.sep.join([pc_data_dir, fname]))\n",
    "    point_data = np.stack([pc.X, pc.Y, pc.Z], axis=0).transpose((1, 0))\n",
    "    if points is None:\n",
    "        points = point_data\n",
    "    else:\n",
    "        points = np.concatenate([points, point_data])\n",
    "points = points.astype(np.float32)       "
   ]
  },
  {
   "cell_type": "code",
   "execution_count": null,
   "metadata": {},
   "outputs": [],
   "source": [
    "surface = o3d.geometry.PointCloud()\n",
    "surface.points = o3d.utility.Vector3dVector(points)\n",
    "o3d.visualization.draw_geometries([surface])"
   ]
  },
  {
   "cell_type": "markdown",
   "metadata": {},
   "source": [
    "## Generate Depth-Map from Point-Cloud"
   ]
  },
  {
   "cell_type": "code",
   "execution_count": null,
   "metadata": {},
   "outputs": [],
   "source": [
    "from point_cloud_tools import get_depth_and_rgb\n",
    "from img_utils import show"
   ]
  },
  {
   "cell_type": "code",
   "execution_count": null,
   "metadata": {},
   "outputs": [],
   "source": [
    "pc_data_dir = '/media/antonio/Ubuntail/Dropbox/education/phd/courses/processamento_imagens/assignments/final/pyodm/entwine_pointcloud/ept-data'"
   ]
  },
  {
   "cell_type": "code",
   "execution_count": null,
   "metadata": {},
   "outputs": [],
   "source": [
    "depth_map, rgb = get_depth_and_rgb(pc_data_dir, (500, 625), generate_rgb=True)"
   ]
  },
  {
   "cell_type": "code",
   "execution_count": null,
   "metadata": {},
   "outputs": [],
   "source": [
    "show(depth_map)\n",
    "show(rgb)"
   ]
  },
  {
   "cell_type": "markdown",
   "metadata": {},
   "source": [
    "## Segmentation Using Depth Map"
   ]
  },
  {
   "cell_type": "code",
   "execution_count": null,
   "metadata": {},
   "outputs": [],
   "source": [
    "import numpy as np\n",
    "from os import listdir, path\n",
    "import cv2\n",
    "from skimage.morphology import disk\n",
    "\n",
    "from point_cloud_tools import get_depth_and_rgb\n",
    "from img_utils import normalize, show\n",
    "from segmentation import segment_by_depth"
   ]
  },
  {
   "cell_type": "code",
   "execution_count": null,
   "metadata": {},
   "outputs": [],
   "source": [
    "base_dir = '/media/antonio/Ubuntail/Dropbox/education/phd/courses/processamento_imagens/assignments/final'\n",
    "main_img_path = path.sep.join([base_dir, 'images', 'mataDS.tif'])\n",
    "\n",
    "p_cloud_dir = path.sep.join([base_dir, 'pyodm', 'entwine_pointcloud', 'ept-data'])"
   ]
  },
  {
   "cell_type": "code",
   "execution_count": null,
   "metadata": {},
   "outputs": [],
   "source": [
    "downscaling = 4\n",
    "main_img = cv2.imread(main_img_path)\n",
    "main_img = cv2.resize(main_img, (main_img.shape[1] // downscaling, main_img.shape[0] // downscaling))\n",
    "resolution = main_img.shape[:2]"
   ]
  },
  {
   "cell_type": "code",
   "execution_count": null,
   "metadata": {},
   "outputs": [],
   "source": [
    "show(main_img)\n",
    "print(resolution)"
   ]
  },
  {
   "cell_type": "code",
   "execution_count": null,
   "metadata": {},
   "outputs": [],
   "source": [
    "depth_map, _ = get_depth_and_rgb(p_cloud_dir, resolution)"
   ]
  },
  {
   "cell_type": "code",
   "execution_count": null,
   "metadata": {},
   "outputs": [],
   "source": [
    "show(depth_map)\n",
    "print(depth_map.shape)\n",
    "show(main_img)\n",
    "print(main_img.shape)"
   ]
  },
  {
   "cell_type": "code",
   "execution_count": null,
   "metadata": {},
   "outputs": [],
   "source": [
    "h_head, h_tail = 1500, 2000\n",
    "w_head, w_tail = 2000, 3000\n",
    "\n",
    "crop_rgb = main_img[h_head:h_tail, w_head:w_tail].copy()\n",
    "crop_depth = depth_map[h_head:h_tail, w_head:w_tail].copy()\n",
    "\n",
    "gaps = np.where(np.all(crop_rgb == (-1, -1, -1), axis=-1))\n",
    "crop_rgb[gaps] = (0, 0, 0)\n",
    "crop_rgb = normalize(crop_rgb, (0, 255), np.uint8)\n",
    "\n",
    "show(crop_rgb)\n",
    "show(crop_depth, cmap='jet')"
   ]
  },
  {
   "cell_type": "code",
   "execution_count": null,
   "metadata": {},
   "outputs": [],
   "source": [
    "ws, inter = segment_by_depth(crop_rgb, crop_depth, structuring_el=disk(45), return_intermediate=True)"
   ]
  },
  {
   "cell_type": "code",
   "execution_count": null,
   "metadata": {},
   "outputs": [],
   "source": [
    "show(ws)"
   ]
  },
  {
   "cell_type": "code",
   "execution_count": null,
   "metadata": {},
   "outputs": [],
   "source": [
    "for k in inter:\n",
    "    show(inter[k], title=k)"
   ]
  }
 ],
 "metadata": {
  "kernelspec": {
   "display_name": "Python 3.8.10 ('pointcloud')",
   "language": "python",
   "name": "python3"
  },
  "language_info": {
   "codemirror_mode": {
    "name": "ipython",
    "version": 3
   },
   "file_extension": ".py",
   "mimetype": "text/x-python",
   "name": "python",
   "nbconvert_exporter": "python",
   "pygments_lexer": "ipython3",
   "version": "3.8.10"
  },
  "orig_nbformat": 4,
  "vscode": {
   "interpreter": {
    "hash": "38dc056a69a1bc597bfaa95560c31600a73400e24db4efc9f675041f442fa471"
   }
  }
 },
 "nbformat": 4,
 "nbformat_minor": 2
}
