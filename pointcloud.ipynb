{
 "cells": [
  {
   "cell_type": "markdown",
   "metadata": {},
   "source": [
    "## Generating point cloud"
   ]
  },
  {
   "cell_type": "code",
   "execution_count": 1,
   "metadata": {},
   "outputs": [],
   "source": [
    "from pyodm import Node"
   ]
  },
  {
   "cell_type": "code",
   "execution_count": 2,
   "metadata": {},
   "outputs": [],
   "source": [
    "n = Node('localhost', 3000)"
   ]
  },
  {
   "cell_type": "code",
   "execution_count": 3,
   "metadata": {},
   "outputs": [],
   "source": [
    "from os import listdir"
   ]
  },
  {
   "cell_type": "code",
   "execution_count": 5,
   "metadata": {},
   "outputs": [],
   "source": [
    "prefix = '../images/original'\n",
    "files = [prefix + '/' + f for f in listdir(prefix)]"
   ]
  },
  {
   "cell_type": "code",
   "execution_count": 7,
   "metadata": {},
   "outputs": [],
   "source": [
    "task = n.create_task(files, {'dsm': True})"
   ]
  },
  {
   "cell_type": "code",
   "execution_count": 8,
   "metadata": {},
   "outputs": [],
   "source": [
    "task.wait_for_completion()"
   ]
  },
  {
   "cell_type": "code",
   "execution_count": 9,
   "metadata": {},
   "outputs": [
    {
     "data": {
      "text/plain": [
       "'/media/antonio/Ubuntail/Dropbox/education/phd/courses/processamento_imagens/assignments/final/pyodm'"
      ]
     },
     "execution_count": 9,
     "metadata": {},
     "output_type": "execute_result"
    }
   ],
   "source": [
    "task.download_assets(\"/media/antonio/Ubuntail/Dropbox/education/phd/courses/processamento_imagens/assignments/final/pyodm\")"
   ]
  },
  {
   "cell_type": "markdown",
   "metadata": {},
   "source": [
    "## Visualizind point cloud"
   ]
  },
  {
   "cell_type": "code",
   "execution_count": 8,
   "metadata": {},
   "outputs": [],
   "source": [
    "import laspy\n",
    "import open3d as o3d\n",
    "import numpy as np\n",
    "from os import listdir\n",
    "from morph_texture import normalize"
   ]
  },
  {
   "cell_type": "code",
   "execution_count": 2,
   "metadata": {},
   "outputs": [],
   "source": [
    "pc_data_dir = '/media/antonio/Ubuntail/Dropbox/education/phd/courses/processamento_imagens/assignments/final/pyodm/entwine_pointcloud/ept-data/'"
   ]
  },
  {
   "cell_type": "code",
   "execution_count": 5,
   "metadata": {},
   "outputs": [],
   "source": [
    "points = None\n",
    "for fname in listdir(pc_data_dir):\n",
    "    pc = laspy.read(pc_data_dir + fname)\n",
    "    point_data = np.stack([pc.X, pc.Y, pc.Z], axis=0).transpose((1, 0))\n",
    "    if points is None:\n",
    "        points = point_data\n",
    "    else:\n",
    "        points = np.concatenate([points, point_data])\n",
    "points -= np.min(points, axis=0)\n",
    "        "
   ]
  },
  {
   "cell_type": "code",
   "execution_count": 7,
   "metadata": {},
   "outputs": [
    {
     "data": {
      "text/plain": [
       "dtype('int32')"
      ]
     },
     "execution_count": 7,
     "metadata": {},
     "output_type": "execute_result"
    }
   ],
   "source": [
    "points = points.astype(np.float32)\n"
   ]
  },
  {
   "cell_type": "code",
   "execution_count": 9,
   "metadata": {},
   "outputs": [],
   "source": [
    "surface = o3d.geometry.PointCloud()\n",
    "surface.points = o3d.utility.Vector3dVector(points)\n",
    "o3d.visualization.draw_geometries([surface])\n"
   ]
  },
  {
   "cell_type": "code",
   "execution_count": 27,
   "metadata": {},
   "outputs": [],
   "source": [
    "import matplotlib.pyplot as plt"
   ]
  },
  {
   "cell_type": "code",
   "execution_count": 28,
   "metadata": {},
   "outputs": [],
   "source": [
    "def show(img, plt_size=(16, 10), cmap=None):\n",
    "    fig = plt.figure(figsize=plt_size)\n",
    "    plt.imshow(img, cmap=cmap if cmap is not None else (None if len(img.shape) == 3 else 'gray'))"
   ]
  },
  {
   "cell_type": "code",
   "execution_count": 32,
   "metadata": {},
   "outputs": [],
   "source": [
    "img = surface.Image"
   ]
  },
  {
   "cell_type": "code",
   "execution_count": 34,
   "metadata": {},
   "outputs": [
    {
     "data": {
      "text/plain": [
       "<Type.RGBDImage: 9>"
      ]
     },
     "execution_count": 34,
     "metadata": {},
     "output_type": "execute_result"
    }
   ],
   "source": [
    "img.RGBDImage"
   ]
  },
  {
   "cell_type": "code",
   "execution_count": 36,
   "metadata": {},
   "outputs": [],
   "source": [
    "import cv2"
   ]
  },
  {
   "cell_type": "code",
   "execution_count": 72,
   "metadata": {},
   "outputs": [
    {
     "data": {
      "text/plain": [
       "10771891"
      ]
     },
     "execution_count": 72,
     "metadata": {},
     "output_type": "execute_result"
    }
   ],
   "source": [
    "len(points)"
   ]
  },
  {
   "cell_type": "code",
   "execution_count": 20,
   "metadata": {},
   "outputs": [],
   "source": [
    "def points_to_image(points, resolution):\n",
    "    H, W = resolution\n",
    "    points = points.copy()\n",
    "    points[:, 0] = normalize(points[:, 0], (0, W), points.dtype)\n",
    "    points[:, 1] = normalize(points[:, 1], (0, H), points.dtype)\n",
    "    points[:, 2] = normalize(points[:, 2], type=points.dtype)\n",
    "    \n",
    "    points[:, 0] = np.floor(points[:, 0]).astype(np.uint8)\n",
    "    points[:, 1] = np.floor(points[:, 1]).astype(np.uint8)\n",
    "    \n",
    "    result = np.zeros(resolution, np.float128)\n",
    "    for point in points:\n",
    "        result[point[1], point[0]] += point[2]\n",
    "    return result\n",
    "    \n",
    "    \n",
    "    "
   ]
  },
  {
   "cell_type": "code",
   "execution_count": 17,
   "metadata": {},
   "outputs": [],
   "source": [
    "img = np.zeros((500, 625))"
   ]
  },
  {
   "cell_type": "code",
   "execution_count": 21,
   "metadata": {},
   "outputs": [],
   "source": [
    "dm = points_to_image(points, (500, 625))"
   ]
  },
  {
   "cell_type": "code",
   "execution_count": 22,
   "metadata": {},
   "outputs": [
    {
     "data": {
      "text/plain": [
       "(500, 625)"
      ]
     },
     "execution_count": 22,
     "metadata": {},
     "output_type": "execute_result"
    }
   ],
   "source": [
    "dm.shape"
   ]
  },
  {
   "cell_type": "code",
   "execution_count": 71,
   "metadata": {},
   "outputs": [
    {
     "data": {
      "text/plain": [
       "array([146262,      0,      0], dtype=int32)"
      ]
     },
     "execution_count": 71,
     "metadata": {},
     "output_type": "execute_result"
    }
   ],
   "source": [
    "points[5449935]"
   ]
  },
  {
   "cell_type": "code",
   "execution_count": 74,
   "metadata": {},
   "outputs": [
    {
     "ename": "ValueError",
     "evalue": "invalid entry in coordinates array",
     "output_type": "error",
     "traceback": [
      "\u001b[0;31m---------------------------------------------------------------------------\u001b[0m",
      "\u001b[0;31mValueError\u001b[0m                                Traceback (most recent call last)",
      "\u001b[1;32m/media/antonio/Ubuntail/Dropbox/education/phd/courses/processamento_imagens/assignments/final/SCC5830_final/pointcloud.ipynb Cell 23\u001b[0m in \u001b[0;36m<cell line: 1>\u001b[0;34m()\u001b[0m\n\u001b[0;32m----> <a href='vscode-notebook-cell:/media/antonio/Ubuntail/Dropbox/education/phd/courses/processamento_imagens/assignments/final/SCC5830_final/pointcloud.ipynb#ch0000027?line=0'>1</a>\u001b[0m img \u001b[39m=\u001b[39m points_to_image(points[:, \u001b[39m0\u001b[39;49m], points[:, \u001b[39m1\u001b[39;49m], points[:, \u001b[39m2\u001b[39;49m], (\u001b[39m500\u001b[39;49m, \u001b[39m625\u001b[39;49m))\n",
      "\u001b[1;32m/media/antonio/Ubuntail/Dropbox/education/phd/courses/processamento_imagens/assignments/final/SCC5830_final/pointcloud.ipynb Cell 23\u001b[0m in \u001b[0;36mpoints_to_image\u001b[0;34m(xs, ys, zs, img_size)\u001b[0m\n\u001b[1;32m      <a href='vscode-notebook-cell:/media/antonio/Ubuntail/Dropbox/education/phd/courses/processamento_imagens/assignments/final/SCC5830_final/pointcloud.ipynb#ch0000027?line=0'>1</a>\u001b[0m \u001b[39mdef\u001b[39;00m \u001b[39mpoints_to_image\u001b[39m(xs, ys, zs, img_size):\n\u001b[1;32m      <a href='vscode-notebook-cell:/media/antonio/Ubuntail/Dropbox/education/phd/courses/processamento_imagens/assignments/final/SCC5830_final/pointcloud.ipynb#ch0000027?line=1'>2</a>\u001b[0m     coords \u001b[39m=\u001b[39m np\u001b[39m.\u001b[39mstack((ys, xs))\n\u001b[0;32m----> <a href='vscode-notebook-cell:/media/antonio/Ubuntail/Dropbox/education/phd/courses/processamento_imagens/assignments/final/SCC5830_final/pointcloud.ipynb#ch0000027?line=2'>3</a>\u001b[0m     abs_coords \u001b[39m=\u001b[39m np\u001b[39m.\u001b[39;49mravel_multi_index(coords, img_size)\n\u001b[1;32m      <a href='vscode-notebook-cell:/media/antonio/Ubuntail/Dropbox/education/phd/courses/processamento_imagens/assignments/final/SCC5830_final/pointcloud.ipynb#ch0000027?line=3'>4</a>\u001b[0m     img \u001b[39m=\u001b[39m np\u001b[39m.\u001b[39mbincount(abs_coords, weights\u001b[39m=\u001b[39mzs, minlength\u001b[39m=\u001b[39mimg_size[\u001b[39m0\u001b[39m]\u001b[39m*\u001b[39mimg_size[\u001b[39m1\u001b[39m])\n\u001b[1;32m      <a href='vscode-notebook-cell:/media/antonio/Ubuntail/Dropbox/education/phd/courses/processamento_imagens/assignments/final/SCC5830_final/pointcloud.ipynb#ch0000027?line=4'>5</a>\u001b[0m     img \u001b[39m=\u001b[39m img\u001b[39m.\u001b[39mreshape(img_size)\n",
      "File \u001b[0;32m<__array_function__ internals>:180\u001b[0m, in \u001b[0;36mravel_multi_index\u001b[0;34m(*args, **kwargs)\u001b[0m\n",
      "\u001b[0;31mValueError\u001b[0m: invalid entry in coordinates array"
     ]
    }
   ],
   "source": [
    "img = points_to_image(points[:, 0], points[:, 1], points[:, 2], (500, 625))"
   ]
  }
 ],
 "metadata": {
  "kernelspec": {
   "display_name": "Python 3.8.10 ('pointcloud')",
   "language": "python",
   "name": "python3"
  },
  "language_info": {
   "codemirror_mode": {
    "name": "ipython",
    "version": 3
   },
   "file_extension": ".py",
   "mimetype": "text/x-python",
   "name": "python",
   "nbconvert_exporter": "python",
   "pygments_lexer": "ipython3",
   "version": "3.8.10"
  },
  "orig_nbformat": 4,
  "vscode": {
   "interpreter": {
    "hash": "38dc056a69a1bc597bfaa95560c31600a73400e24db4efc9f675041f442fa471"
   }
  }
 },
 "nbformat": 4,
 "nbformat_minor": 2
}
